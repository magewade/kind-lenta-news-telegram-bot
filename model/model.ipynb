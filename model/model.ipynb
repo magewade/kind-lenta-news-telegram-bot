{
 "cells": [
  {
   "cell_type": "code",
   "execution_count": null,
   "metadata": {},
   "outputs": [
    {
     "name": "stderr",
     "output_type": "stream",
     "text": [
      "/Users/magewade/Desktop/ML/bot/lenta_news/.venv/lib/python3.11/site-packages/tqdm/auto.py:21: TqdmWarning: IProgress not found. Please update jupyter and ipywidgets. See https://ipywidgets.readthedocs.io/en/stable/user_install.html\n",
      "  from .autonotebook import tqdm as notebook_tqdm\n"
     ]
    }
   ],
   "source": [
    "from sentence_transformers import SentenceTransformer\n",
    "\n",
    "from sklearn.metrics.pairwise import cosine_similarity\n",
    "import sqlite3\n",
    "import joblib\n",
    "from tqdm import tqdm\n",
    "from datetime import datetime\n",
    "\n",
    "import numpy as np"
   ]
  },
  {
   "cell_type": "code",
   "execution_count": 4,
   "metadata": {},
   "outputs": [],
   "source": [
    "# Загружаем модель\n",
    "model = SentenceTransformer(\"sberbank-ai/sbert_large_nlu_ru\")\n",
    "\n",
    "\n",
    "def get_bert_embedding(text):\n",
    "    # Векторизация текста с использованием модели\n",
    "    return model.encode(text, convert_to_numpy=True)"
   ]
  },
  {
   "cell_type": "code",
   "execution_count": 5,
   "metadata": {},
   "outputs": [],
   "source": [
    "def load_news_from_db(\n",
    "    db_path=\"/Users/magewade/Desktop/ML/bot/lenta_news/news_database.db\",\n",
    "):\n",
    "    conn = sqlite3.connect(db_path)\n",
    "    cursor = conn.cursor()\n",
    "    cursor.execute(\"SELECT content FROM articles\")\n",
    "    rows = cursor.fetchall()\n",
    "    conn.close()\n",
    "    return [row[0] for row in rows]"
   ]
  },
  {
   "cell_type": "code",
   "execution_count": 6,
   "metadata": {},
   "outputs": [
    {
     "name": "stderr",
     "output_type": "stream",
     "text": [
      "Векторизация новостей: 100%|██████████| 2277/2277 [02:22<00:00, 16.03it/s]\n"
     ]
    }
   ],
   "source": [
    "# Загружаем новости из базы\n",
    "news_texts = load_news_from_db()\n",
    "\n",
    "# Векторизация новостей\n",
    "news_embeddings = [\n",
    "    get_bert_embedding(text) for text in tqdm(news_texts, desc=\"Векторизация новостей\")\n",
    "]"
   ]
  },
  {
   "cell_type": "code",
   "execution_count": 7,
   "metadata": {},
   "outputs": [],
   "source": [
    "def find_similar_news(query, news_texts, news_vectors, top_k=3):\n",
    "    # Векторизуем запрос\n",
    "    query_vec = get_bert_embedding(query).reshape(1, -1)\n",
    "\n",
    "    # Считаем сходство с новостями\n",
    "    sims = cosine_similarity(query_vec, news_vectors)[0]\n",
    "\n",
    "    # Сортируем новости по сходству\n",
    "    top_indices = sims.argsort()[-top_k:][::-1]\n",
    "    return [(news_texts[i], sims[i]) for i in top_indices]"
   ]
  },
  {
   "cell_type": "code",
   "execution_count": 8,
   "metadata": {},
   "outputs": [
    {
     "data": {
      "text/plain": [
       "['news_vectors.pkl']"
      ]
     },
     "execution_count": 8,
     "metadata": {},
     "output_type": "execute_result"
    }
   ],
   "source": [
    "joblib.dump((news_texts, news_embeddings), \"news_vectors.pkl\")"
   ]
  },
  {
   "cell_type": "code",
   "execution_count": 9,
   "metadata": {},
   "outputs": [
    {
     "name": "stdout",
     "output_type": "stream",
     "text": [
      "1. (0.36) Врач-терапевт и телеведущая Елена Малышева и ее соведущие, кардиолог Герман Гандельман и офтальмолог Михаил Коновалов в эфире программы «Жить здорово!» на Первом канале раскрыли россиянам неожиданную \n",
      "2. (0.35) В московской квартире в Северном Измайлово кот по кличке Кузя спас 10-летнего ребенка от пожара. Об этом сообщило МЧС России в своем Telegram-канале. «10-летний Георгий делал уроки, когда его стал хва\n",
      "3. (0.33) В Новосибирске бездомный кот обрел хозяина и сразу же устроил погром в магазине на тысячи рублей. Об этом сообщает Telegram-канал Mash Siberia. Житель российского города подобрал на улице кота и зашел\n"
     ]
    }
   ],
   "source": [
    "query = \"кот\"\n",
    "results = find_similar_news(query, news_texts, news_embeddings)\n",
    "\n",
    "# Печать результатов\n",
    "for i, (text, score) in enumerate(results, 1):\n",
    "    print(f\"{i}. ({score:.2f}) {text[:200]}\")"
   ]
  },
  {
   "cell_type": "code",
   "execution_count": 17,
   "metadata": {},
   "outputs": [],
   "source": [
    "def save_embeddings_to_db(db_path, news_texts, embeddings):\n",
    "    # Соединяемся с базой данных\n",
    "    conn = sqlite3.connect(db_path)\n",
    "    cursor = conn.cursor()\n",
    "\n",
    "    # Для каждой новости и её эмбеддинга добавляем в базу\n",
    "    for text, embedding in tqdm(\n",
    "        zip(news_texts, embeddings), desc=\"Сохранение эмбеддингов в базу\"\n",
    "    ):\n",
    "        # Преобразуем эмбеддинг в бинарный формат\n",
    "        embedding_blob = embedding.tobytes()\n",
    "\n",
    "        # Обновляем эмбеддинг для существующей новости\n",
    "        cursor.execute(\n",
    "            \"\"\"\n",
    "            UPDATE articles\n",
    "            SET embedding = ?\n",
    "            WHERE content = ?\n",
    "        \"\"\",\n",
    "            (embedding_blob, text),\n",
    "        )\n",
    "\n",
    "    # Сохраняем изменения в базе данных\n",
    "    conn.commit()\n",
    "    conn.close()"
   ]
  },
  {
   "cell_type": "code",
   "execution_count": 13,
   "metadata": {},
   "outputs": [],
   "source": [
    "import sqlite3\n",
    "\n",
    "\n",
    "def add_embedding_column(db_path):\n",
    "    # Соединяемся с базой данных\n",
    "    conn = sqlite3.connect(db_path)\n",
    "    cursor = conn.cursor()\n",
    "\n",
    "    # Выполняем SQL-команду для добавления колонки\n",
    "    cursor.execute(\"ALTER TABLE articles ADD COLUMN embedding BLOB\")\n",
    "\n",
    "    # Сохраняем изменения\n",
    "    conn.commit()\n",
    "    conn.close()\n",
    "\n",
    "\n",
    "# Добавляем колонку в существующую базу данных\n",
    "add_embedding_column(\"/Users/magewade/Desktop/ML/bot/lenta_news/news_database.db\")"
   ]
  },
  {
   "cell_type": "code",
   "execution_count": 18,
   "metadata": {},
   "outputs": [
    {
     "name": "stderr",
     "output_type": "stream",
     "text": [
      "Сохранение эмбеддингов в базу: 2277it [00:02, 917.96it/s]\n"
     ]
    }
   ],
   "source": [
    "save_embeddings_to_db(\n",
    "    \"/Users/magewade/Desktop/ML/bot/lenta_news/news_database.db\",\n",
    "    news_texts,\n",
    "    news_embeddings,\n",
    ")"
   ]
  }
 ],
 "metadata": {
  "kernelspec": {
   "display_name": ".venv",
   "language": "python",
   "name": "python3"
  },
  "language_info": {
   "codemirror_mode": {
    "name": "ipython",
    "version": 3
   },
   "file_extension": ".py",
   "mimetype": "text/x-python",
   "name": "python",
   "nbconvert_exporter": "python",
   "pygments_lexer": "ipython3",
   "version": "3.11.11"
  }
 },
 "nbformat": 4,
 "nbformat_minor": 2
}
